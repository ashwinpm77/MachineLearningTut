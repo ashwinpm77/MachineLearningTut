{
 "cells": [
  {
   "cell_type": "markdown",
   "metadata": {},
   "source": [
    "# NumPy Introduction"
   ]
  },
  {
   "cell_type": "markdown",
   "metadata": {},
   "source": [
    "## N-dimensional Arrays"
   ]
  },
  {
   "cell_type": "code",
   "execution_count": 2,
   "metadata": {},
   "outputs": [
    {
     "data": {
      "text/plain": [
       "array([[1, 2, 3],\n",
       "       [4, 5, 6]])"
      ]
     },
     "execution_count": 2,
     "metadata": {},
     "output_type": "execute_result"
    }
   ],
   "source": [
    "# Two dimentional ndarray\n",
    "\n",
    "import numpy as np\n",
    "lst = [[1, 2, 3], [4, 5, 6]]\n",
    "ary1d = np.array(lst)\n",
    "ary1d"
   ]
  },
  {
   "cell_type": "code",
   "execution_count": 5,
   "metadata": {},
   "outputs": [
    {
     "data": {
      "text/plain": [
       "dtype('int64')"
      ]
     },
     "execution_count": 5,
     "metadata": {},
     "output_type": "execute_result"
    }
   ],
   "source": [
    "ary1d.dtype"
   ]
  },
  {
   "cell_type": "code",
   "execution_count": 7,
   "metadata": {},
   "outputs": [
    {
     "data": {
      "text/plain": [
       "dtype('float32')"
      ]
     },
     "execution_count": 7,
     "metadata": {},
     "output_type": "execute_result"
    }
   ],
   "source": [
    "float32_ary = ary1d.astype(np.float32) # changes the data type of the ndarray\n",
    "float32_ary\n",
    "float32_ary.dtype"
   ]
  },
  {
   "cell_type": "code",
   "execution_count": 12,
   "metadata": {},
   "outputs": [
    {
     "data": {
      "text/plain": [
       "(2, 3)"
      ]
     },
     "execution_count": 12,
     "metadata": {},
     "output_type": "execute_result"
    }
   ],
   "source": [
    "ary2d = np.array([[1, 2, 3], [4, 5, 6]], dtype='int64')\n",
    "ary2d.itemsize # gets size of each element\n",
    "ary2d.size # returns the number of elements in an array\n",
    "ary2d.ndim # the number of dimensions in the ndarray\n",
    "ary2d.shape # returns the number of dimensions along each axes"
   ]
  },
  {
   "cell_type": "code",
   "execution_count": 14,
   "metadata": {},
   "outputs": [
    {
     "data": {
      "text/plain": [
       "(3,)"
      ]
     },
     "execution_count": 14,
     "metadata": {},
     "output_type": "execute_result"
    }
   ],
   "source": [
    "np.array([1, 2, 3]).shape # is a 1-dimensional ndarray"
   ]
  },
  {
   "cell_type": "code",
   "execution_count": 19,
   "metadata": {},
   "outputs": [
    {
     "data": {
      "text/plain": [
       "()"
      ]
     },
     "execution_count": 19,
     "metadata": {},
     "output_type": "execute_result"
    }
   ],
   "source": [
    "scalar = np.array(5) # scalar object\n",
    "scalar\n",
    "scalar.ndim # 0\n",
    "scalar.shape"
   ]
  },
  {
   "cell_type": "markdown",
   "metadata": {},
   "source": [
    "## Array Construction Routines"
   ]
  },
  {
   "cell_type": "code",
   "execution_count": 26,
   "metadata": {},
   "outputs": [
    {
     "data": {
      "text/plain": [
       "array([1, 3, 5, 7, 9])"
      ]
     },
     "execution_count": 26,
     "metadata": {},
     "output_type": "execute_result"
    }
   ],
   "source": [
    "# Construction from generator functions\n",
    "\n",
    "def generator():\n",
    "    for i in range(10):\n",
    "        if i % 2:\n",
    "            yield i\n",
    "gen = generator()\n",
    "np.fromiter(gen, dtype=int) # got an array from a generator\n",
    "\n",
    "# using 'comprehensions' the following\n",
    "# generator expression is equivalent to\n",
    "# the \\code {generator} above\n",
    "\n",
    "generator_expression = (i for i in range(10) if i % 2)\n",
    "np.fromiter(generator_expression, dtype=int)"
   ]
  },
  {
   "cell_type": "code",
   "execution_count": 28,
   "metadata": {},
   "outputs": [
    {
     "data": {
      "text/plain": [
       "array([[1., 1., 1.],\n",
       "       [1., 1., 1.],\n",
       "       [1., 1., 1.]])"
      ]
     },
     "execution_count": 28,
     "metadata": {},
     "output_type": "execute_result"
    }
   ],
   "source": [
    "# Creating ndarrays consisting of only ones\n",
    "np.ones((3, 3))"
   ]
  },
  {
   "cell_type": "code",
   "execution_count": 32,
   "metadata": {},
   "outputs": [
    {
     "data": {
      "text/plain": [
       "array([[0., 0., 0.],\n",
       "       [0., 0., 0.],\n",
       "       [0., 0., 0.]])"
      ]
     },
     "execution_count": 32,
     "metadata": {},
     "output_type": "execute_result"
    }
   ],
   "source": [
    "# Creating ndarrays consisting of only zeros\n",
    "np.zeros((3, 3))"
   ]
  },
  {
   "cell_type": "code",
   "execution_count": 34,
   "metadata": {},
   "outputs": [
    {
     "data": {
      "text/plain": [
       "array([[0., 0., 0.],\n",
       "       [0., 0., 0.],\n",
       "       [0., 0., 0.]])"
      ]
     },
     "execution_count": 34,
     "metadata": {},
     "output_type": "execute_result"
    }
   ],
   "source": [
    "# Creating ndarray of nothing\n",
    "np.empty((3,3))"
   ]
  },
  {
   "cell_type": "code",
   "execution_count": 39,
   "metadata": {},
   "outputs": [
    {
     "data": {
      "text/plain": [
       "array([[1., 0., 0.],\n",
       "       [0., 1., 0.],\n",
       "       [0., 0., 1.]])"
      ]
     },
     "execution_count": 39,
     "metadata": {},
     "output_type": "execute_result"
    }
   ],
   "source": [
    "# Creating an identity matrix -> pass the number of rows or columns\n",
    "np.eye(3)"
   ]
  },
  {
   "cell_type": "code",
   "execution_count": 42,
   "metadata": {},
   "outputs": [
    {
     "data": {
      "text/plain": [
       "array([[1, 0, 0],\n",
       "       [0, 2, 0],\n",
       "       [0, 0, 3]])"
      ]
     },
     "execution_count": 42,
     "metadata": {},
     "output_type": "execute_result"
    }
   ],
   "source": [
    "# Creating a diagonal matrix -> pass the diagonal values\n",
    "np.diag((1,2,3))"
   ]
  },
  {
   "cell_type": "code",
   "execution_count": 45,
   "metadata": {},
   "outputs": [
    {
     "data": {
      "text/plain": [
       "array([0, 2, 4, 6, 8])"
      ]
     },
     "execution_count": 45,
     "metadata": {},
     "output_type": "execute_result"
    }
   ],
   "source": [
    "# Creating ndarrays from a range\n",
    "np.arange(4, 10)\n",
    "np.arange(5)\n",
    "np.arange(0, 10, 2)"
   ]
  },
  {
   "cell_type": "code",
   "execution_count": 47,
   "metadata": {},
   "outputs": [
    {
     "data": {
      "text/plain": [
       "array([0.  , 0.25, 0.5 , 0.75, 1.  ])"
      ]
     },
     "execution_count": 47,
     "metadata": {},
     "output_type": "execute_result"
    }
   ],
   "source": [
    "# Creating a ndarray range of evenly spaced values specified by a half-open interval\n",
    "np.linspace(0, 1, num=5)"
   ]
  },
  {
   "cell_type": "markdown",
   "metadata": {},
   "source": [
    "## Array Indexing"
   ]
  },
  {
   "cell_type": "code",
   "execution_count": 49,
   "metadata": {},
   "outputs": [
    {
     "data": {
      "text/plain": [
       "array([1, 2])"
      ]
     },
     "execution_count": 49,
     "metadata": {},
     "output_type": "execute_result"
    }
   ],
   "source": [
    "# Indexing and slicing one-dimensional ndarray\n",
    "ary = np.array([1, 2, 3])\n",
    "ary[0]\n",
    "ary[:2]"
   ]
  },
  {
   "cell_type": "code",
   "execution_count": 56,
   "metadata": {},
   "outputs": [
    {
     "data": {
      "text/plain": [
       "1"
      ]
     },
     "execution_count": 56,
     "metadata": {},
     "output_type": "execute_result"
    }
   ],
   "source": [
    "# Indexing and slicing multi-dimensional ndarray\n",
    "ary = np.array([[1, 2, 3], [4, 5, 6]])\n",
    "ary[0, 0]\n",
    "ary[-1, -1]\n",
    "ary[0, 1]\n",
    "ary[0]\n",
    "ary[:, 0]\n",
    "ary[:, :2]\n",
    "ary[0, 0]"
   ]
  },
  {
   "cell_type": "markdown",
   "metadata": {},
   "source": [
    "## Array Math and Universal Functions"
   ]
  },
  {
   "cell_type": "code",
   "execution_count": 59,
   "metadata": {},
   "outputs": [
    {
     "data": {
      "text/plain": [
       "[[2, 3, 4], [5, 6, 7]]"
      ]
     },
     "execution_count": 59,
     "metadata": {},
     "output_type": "execute_result"
    }
   ],
   "source": [
    "# Vanilla python code to add a scalar to an ndarray\n",
    "\n",
    "lst = [[1, 2, 3], [4, 5, 6]]\n",
    "for row_idx, row_val in enumerate(lst):\n",
    "    for col_idx, col_val in enumerate(row_val):\n",
    "        lst[row_idx][col_idx] += 1\n",
    "lst"
   ]
  },
  {
   "cell_type": "code",
   "execution_count": 60,
   "metadata": {},
   "outputs": [
    {
     "data": {
      "text/plain": [
       "[[2, 3, 4], [5, 6, 7]]"
      ]
     },
     "execution_count": 60,
     "metadata": {},
     "output_type": "execute_result"
    }
   ],
   "source": [
    "# Above same task using comprehension\n",
    "lst = [[1, 2, 3], [4, 5, 6]]\n",
    "[[cell + 1 for cell in row] for row in lst]"
   ]
  },
  {
   "cell_type": "code",
   "execution_count": 66,
   "metadata": {},
   "outputs": [
    {
     "data": {
      "text/plain": [
       "array([[ 4,  9, 16],\n",
       "       [25, 36, 49]])"
      ]
     },
     "execution_count": 66,
     "metadata": {},
     "output_type": "execute_result"
    }
   ],
   "source": [
    "# Above same task using NumPy\n",
    "\n",
    "ary = np.array([[1, 2, 3], [4, 5, 6]])\n",
    "ary = np.add(ary, 1)\n",
    "ary\n",
    "\n",
    "# Using operator overloaded functions\n",
    "\n",
    "ary + 1 # adds 1\n",
    "\n",
    "ary ** 2 # raises power to 2 of each element"
   ]
  },
  {
   "cell_type": "code",
   "execution_count": 75,
   "metadata": {},
   "outputs": [
    {
     "data": {
      "text/plain": [
       "21"
      ]
     },
     "execution_count": 75,
     "metadata": {},
     "output_type": "execute_result"
    }
   ],
   "source": [
    "# Computing row and column sums using reduce()\n",
    "\n",
    "# Column sums\n",
    "ary = np.array([[1, 2, 3], [4, 5, 6]])\n",
    "np.add.reduce(ary)\n",
    "\n",
    "# Row sums\n",
    "np.add.reduce(ary, axis=1)\n",
    "\n",
    "# Column sum\n",
    "np.sum(ary, axis=0)\n",
    "ary.sum(axis=0)\n",
    "\n",
    "# Total sum\n",
    "ary.sum()"
   ]
  },
  {
   "cell_type": "code",
   "execution_count": 126,
   "metadata": {},
   "outputs": [
    {
     "data": {
      "text/plain": [
       "True"
      ]
     },
     "execution_count": 126,
     "metadata": {},
     "output_type": "execute_result"
    }
   ],
   "source": [
    "# Some useful unary ufuncs - (universal functions)\n",
    "\n",
    "# Mean\n",
    "np.mean(ary)\n",
    "ary.mean()\n",
    "\n",
    "# Standard Deviation\n",
    "np.std(ary)\n",
    "ary.std()\n",
    "\n",
    "# Variance\n",
    "np.var(ary)\n",
    "ary.var()\n",
    "\n",
    "# Sort\n",
    "np.sort(ary)\n",
    "ary.sort() # Sorts permanently\n",
    "\n",
    "# Return sort indices\n",
    "np.argsort(ary)\n",
    "ary.argsort()\n",
    "\n",
    "# Minimum\n",
    "np.min(ary)\n",
    "ary.min()\n",
    "\n",
    "# Maximum\n",
    "np.max(ary)\n",
    "ary.max()\n",
    "\n",
    "# Index of Minimum\n",
    "np.argmin(ary)\n",
    "ary.argmin()\n",
    "\n",
    "# Index of Maximum\n",
    "np.argmax(ary)\n",
    "ary.argmax()\n",
    "\n",
    "# Check whether two arrays are equal or not (i.e. have same shape and same elements)\n",
    "a = np.array([1, 2, 3])\n",
    "b = np.array([1, 2, 3])\n",
    "np.array_equal(a, b)"
   ]
  },
  {
   "cell_type": "markdown",
   "metadata": {},
   "source": [
    "## Broadcasting"
   ]
  },
  {
   "cell_type": "code",
   "execution_count": 132,
   "metadata": {},
   "outputs": [
    {
     "name": "stdout",
     "output_type": "stream",
     "text": [
      "ValueError: operands could not be broadcast together with shapes (2,3) (2,) \n"
     ]
    },
    {
     "data": {
      "text/plain": [
       "array([[ 5,  6,  7],\n",
       "       [ 9, 10, 11]])"
      ]
     },
     "execution_count": 132,
     "metadata": {},
     "output_type": "execute_result"
    }
   ],
   "source": [
    "# Broadcasting will allow arrays to be in arithmetic operations inspite having different shapes\n",
    "\n",
    "# Addition of two arrays\n",
    "\n",
    "ary1 = np.array([1, 2, 3])\n",
    "ary2 = np.array([4, 5, 6])\n",
    "ary1 + ary2\n",
    "\n",
    "ary3 = np.array([[4, 5, 6], [7, 8, 9]])\n",
    "ary3 + ary1\n",
    "\n",
    "# Number of elements along explicit axes and implicit grids must match to perform the arithmetic operations\n",
    "\n",
    "try:\n",
    "    ary3 + np.array([1, 2])\n",
    "except ValueError as e:\n",
    "    print('ValueError:', e)\n",
    "\n",
    "# to perform the above task make the row size equal to ary3\n",
    "\n",
    "ary3 + np.array([[1], [2]])\n",
    "np.array([[1], [2]]) + ary3"
   ]
  },
  {
   "cell_type": "markdown",
   "metadata": {},
   "source": [
    "## Advanced Indexing - Memory Views and Copies"
   ]
  },
  {
   "cell_type": "code",
   "execution_count": 139,
   "metadata": {},
   "outputs": [
    {
     "data": {
      "text/plain": [
       "array([[  1, 101,   3],\n",
       "       [  4, 104,   6]])"
      ]
     },
     "execution_count": 139,
     "metadata": {},
     "output_type": "execute_result"
    }
   ],
   "source": [
    "# Array Indexing and Slicing do not create a new ndarray instead they are the copies (views) of the original array\n",
    "\n",
    "ary = np.array([[1, 2, 3], [4, 5, 6]])\n",
    "first_row = ary[0]\n",
    "first_row += 99\n",
    "ary # Values are changed in the actual array\n",
    "\n",
    "ary = np.array([[1, 2, 3], [4, 5, 6]])\n",
    "first_row = ary[:1]\n",
    "first_row += 99\n",
    "ary\n",
    "\n",
    "ary = np.array([[1, 2, 3], [4, 5, 6]])\n",
    "center_col = ary[:, 1]\n",
    "center_col += 99\n",
    "ary"
   ]
  },
  {
   "cell_type": "code",
   "execution_count": 142,
   "metadata": {},
   "outputs": [
    {
     "data": {
      "text/plain": [
       "array([[1, 2, 3],\n",
       "       [4, 5, 6]])"
      ]
     },
     "execution_count": 142,
     "metadata": {},
     "output_type": "execute_result"
    }
   ],
   "source": [
    "# copy() method to create a copy of the slicing or indexing operations\n",
    "\n",
    "ary = np.array([[1, 2, 3], [4, 5 ,6]])\n",
    "second_row = ary[1].copy()\n",
    "second_row += 99\n",
    "second_row\n",
    "ary # Values remain the same"
   ]
  },
  {
   "cell_type": "code",
   "execution_count": 146,
   "metadata": {},
   "outputs": [
    {
     "data": {
      "text/plain": [
       "False"
      ]
     },
     "execution_count": 146,
     "metadata": {},
     "output_type": "execute_result"
    }
   ],
   "source": [
    "# To check whether two arrays share memory or not\n",
    "\n",
    "ary = np.array([[1, 2, 3], [4, 5, 6]])\n",
    "first_row = ary[:1]\n",
    "first_row += 99\n",
    "ary\n",
    "np.may_share_memory(first_row, ary)\n",
    "\n",
    "second_row = ary[1].copy()\n",
    "second_row += 99\n",
    "ary\n",
    "np.may_share_memory(second_row, ary)"
   ]
  },
  {
   "cell_type": "code",
   "execution_count": 152,
   "metadata": {},
   "outputs": [
    {
     "data": {
      "text/plain": [
       "array([[3, 1],\n",
       "       [6, 4]])"
      ]
     },
     "execution_count": 152,
     "metadata": {},
     "output_type": "execute_result"
    }
   ],
   "source": [
    "# Fancy indexing\n",
    "# always returns a copy\n",
    "\n",
    "ary = np.array([[1, 2, 3], [4, 5, 6]])\n",
    "ary[:, [0, 2]]\n",
    "\n",
    "this_is_a_copy = ary[:, [0, 2]]\n",
    "this_is_a_copy += 99\n",
    "ary\n",
    "\n",
    "ary[:, [2, 0]]"
   ]
  },
  {
   "cell_type": "code",
   "execution_count": 160,
   "metadata": {},
   "outputs": [
    {
     "data": {
      "text/plain": [
       "array([4, 6])"
      ]
     },
     "execution_count": 160,
     "metadata": {},
     "output_type": "execute_result"
    }
   ],
   "source": [
    "# Boolean mask for indexing\n",
    "# always returns a copy\n",
    "\n",
    "ary = np.array([[1, 2, 3], [4, 5, 6]])\n",
    "greater3_mask = ary > 3\n",
    "greater3_mask\n",
    "\n",
    "ary[greater3_mask] # mask the values using boolean values\n",
    "\n",
    "# Combining logical operators\n",
    "ary[(ary > 3) & (ary % 2 == 0)]"
   ]
  },
  {
   "cell_type": "markdown",
   "metadata": {},
   "source": [
    "## Comparison Operators and Mask"
   ]
  },
  {
   "cell_type": "code",
   "execution_count": 180,
   "metadata": {},
   "outputs": [
    {
     "data": {
      "text/plain": [
       "array([False,  True,  True, False])"
      ]
     },
     "execution_count": 180,
     "metadata": {},
     "output_type": "execute_result"
    }
   ],
   "source": [
    "ary = np.array([1, 2, 3, 4])\n",
    "mask = ary > 2\n",
    "mask # Creates a boolean mask\n",
    "\n",
    "ary[mask] # Assigns values for True boolean values in the mask\n",
    "\n",
    "mask.sum() # returns the total number of True masks\n",
    "\n",
    "mask.nonzero() # returns the indices of True masks\n",
    "\n",
    "# to select element's index into an array based on boolean conditions\n",
    "\n",
    "np.where(ary > 2)\n",
    "\n",
    "np.where(ary > 2, 1, 0) # np.where(condition, x, y) similar to condition ? x : y\n",
    "\n",
    "\n",
    "ary = np.array([1, 2, 3, 4])\n",
    "mask = ary > 2\n",
    "ary[mask] = 1 # assign values to True masks\n",
    "ary[~mask] = 0 # assign values to False masks\n",
    "ary\n",
    "\n",
    "ary = np.array([1, 2, 3, 4])\n",
    "(ary > 3) | (ary < 2)\n",
    "\n",
    "~((ary > 3) | (ary < 2))"
   ]
  },
  {
   "cell_type": "markdown",
   "metadata": {},
   "source": [
    "## Random Number Generators"
   ]
  },
  {
   "cell_type": "code",
   "execution_count": 194,
   "metadata": {},
   "outputs": [
    {
     "data": {
      "image/png": "[encoded data removed]",
      "text/plain": [
       "<Figure size 432x288 with 1 Axes>"
      ]
     },
     "metadata": {
      "needs_background": "light"
     },
     "output_type": "display_data"
    },
    {
     "data": {
      "image/png": "[encoded data removed]",
      "text/plain": [
       "<Figure size 432x288 with 1 Axes>"
      ]
     },
     "metadata": {
      "needs_background": "light"
     },
     "output_type": "display_data"
    }
   ],
   "source": [
    "# Random numbers from a uniform distribution\n",
    "\n",
    "np.random.seed(123)\n",
    "np.random.rand(3)\n",
    "\n",
    "# Using a RandomState object\n",
    "\n",
    "rng1 = np.random.RandomState(seed=123)\n",
    "rng1.rand(3)\n",
    "\n",
    "# Random numbers form a normal distribution N(mu, sigma-squared), here N(0, 1)\n",
    "\n",
    "rng2 = np.random.RandomState(seed=123)\n",
    "z_scores = rng2.randn(100, 2)\n",
    "\n",
    "# Visualising the z_scores values using matplotlib\n",
    "\n",
    "import matplotlib.pyplot as plt\n",
    "plt.scatter(z_scores[:, 0], z_scores[:, 1])\n",
    "plt.show()\n",
    "\n",
    "# Using a different normal distribution, here N(5, 4)\n",
    "\n",
    "rng3 = np.random.RandomState(seed=123)\n",
    "scores = 2 * rng3.randn(100, 2) + 5\n",
    "plt.scatter(scores[:, 0], scores[:, 1])\n",
    "plt.show()"
   ]
  },
  {
   "cell_type": "markdown",
   "metadata": {},
   "source": [
    "## Reshaping Arrays"
   ]
  },
  {
   "cell_type": "code",
   "execution_count": 204,
   "metadata": {},
   "outputs": [
    {
     "data": {
      "text/plain": [
       "True"
      ]
     },
     "execution_count": 204,
     "metadata": {},
     "output_type": "execute_result"
    }
   ],
   "source": [
    "# Changing the dimensions\n",
    "# Reshaping will produce views not copies\n",
    "\n",
    "ary1d = np.array([1, 2, 3, 4, 5, 6])\n",
    "ary2d_view = ary1d.reshape(2, 3)\n",
    "ary2d_view\n",
    "\n",
    "np.may_share_memory(ary1d, ary2d_view) # both arrays share the same memory\n",
    "\n",
    "# a '-1' values is given to the 1d array to create a nxm matrix with n or m not known\n",
    "ary1d.reshape(2, -1) # 2x3\n",
    "ary1d.reshape(-1, 2) # 3x2\n",
    "\n",
    "# reshape to flatten an array\n",
    "ary1d.reshape(-1) # 1xn\n",
    "\n",
    "ary1d.ravel() # 1xn # shorthand function # returns a view\n",
    "\n",
    "np.may_share_memory(ary2d.flatten(), ary2d) # flatten() # returns a copy\n",
    "np.may_share_memory(ary2d.ravel(), ary2d) # ravel() # returns a view"
   ]
  },
  {
   "cell_type": "code",
   "execution_count": 208,
   "metadata": {},
   "outputs": [
    {
     "data": {
      "text/plain": [
       "array([[1, 2, 3, 1, 2, 3]])"
      ]
     },
     "execution_count": 208,
     "metadata": {},
     "output_type": "execute_result"
    }
   ],
   "source": [
    "# Concatenate two arrays\n",
    "\n",
    "ary = np.array([1, 2, 3])\n",
    "np.concatenate((ary, ary)) # concatenate # pass a tuple\n",
    "\n",
    "ary = np.array([[1, 2, 3]])\n",
    "np.concatenate((ary, ary), axis=0) # stack along the row\n",
    "np.concatenate((ary, ary), axis=1) # stack along the column"
   ]
  },
  {
   "cell_type": "markdown",
   "metadata": {},
   "source": [
    "## Linear Algebra with NumPy Arrays"
   ]
  },
  {
   "cell_type": "code",
   "execution_count": 9,
   "metadata": {},
   "outputs": [
    {
     "data": {
      "text/plain": [
       "array([14, 32])"
      ]
     },
     "execution_count": 9,
     "metadata": {},
     "output_type": "execute_result"
    }
   ],
   "source": [
    "# Row vector\n",
    "row_vector = np.array([1, 2, 3])\n",
    "row_vector\n",
    "\n",
    "# Column vector\n",
    "col_vector = np.array([1, 2, 3]).reshape(-1, 1)\n",
    "col_vector\n",
    "\n",
    "# Column vector by adding an axis to the row_vector\n",
    "row_vector[:, np.newaxis]\n",
    "\n",
    "# Same as above\n",
    "row_vector[:, None]\n",
    "\n",
    "# Matrix Multiplication\n",
    "\n",
    "matrix = np.array([[1, 2, 3], [4, 5, 6]])\n",
    "np.matmul(matrix, col_vector)\n",
    "\n",
    "# Due to broadcasting\n",
    "np.matmul(matrix, row_vector)"
   ]
  },
  {
   "cell_type": "code",
   "execution_count": 13,
   "metadata": {},
   "outputs": [
    {
     "data": {
      "text/plain": [
       "array([[14],\n",
       "       [32]])"
      ]
     },
     "execution_count": 13,
     "metadata": {},
     "output_type": "execute_result"
    }
   ],
   "source": [
    "# Dot Product of two matrices\n",
    "\n",
    "np.matmul(row_vector, row_vector)\n",
    "\n",
    "# Using dot() function\n",
    "np.dot(row_vector, row_vector)\n",
    "\n",
    "np.dot(matrix, row_vector)\n",
    "np.dot(matrix, col_vector)"
   ]
  },
  {
   "cell_type": "code",
   "execution_count": 20,
   "metadata": {},
   "outputs": [
    {
     "data": {
      "text/plain": [
       "array([[1, 4],\n",
       "       [2, 5],\n",
       "       [3, 6]])"
      ]
     },
     "execution_count": 20,
     "metadata": {},
     "output_type": "execute_result"
    }
   ],
   "source": [
    "# Transpose of a matrix\n",
    "\n",
    "matrix = np.array([[1, 2, 3], [4, 5, 6]])\n",
    "matrix.transpose()\n",
    "np.transpose(matrix)\n",
    "np.array([[1, 2, 3], [4, 5, 6]]).transpose()\n",
    "\n",
    "np.matmul(matrix, matrix.transpose())\n",
    "np.dot(matrix, matrix.transpose())\n",
    "\n",
    "# Shorthand for transpose()\n",
    "matrix.T"
   ]
  },
  {
   "cell_type": "markdown",
   "metadata": {},
   "source": [
    "## Set Operations"
   ]
  },
  {
   "cell_type": "code",
   "execution_count": 27,
   "metadata": {},
   "outputs": [
    {
     "data": {
      "text/plain": [
       "array([1, 2, 4, 5, 6])"
      ]
     },
     "execution_count": 27,
     "metadata": {},
     "output_type": "execute_result"
    }
   ],
   "source": [
    "# Creating a set\n",
    "\n",
    "ary = np.array([1, 1, 2, 3, 1, 5])\n",
    "ary_set = np.unique(ary)\n",
    "ary_set\n",
    "\n",
    "# Set Operations # assume_unique=True to speed up the operation\n",
    "\n",
    "ary1 = np.array([1, 2, 3])\n",
    "ary2 = np.array([3, 4, 5, 6])\n",
    "np.intersect1d(ary1, ary2, assume_unique=True)\n",
    "np.setdiff1d(ary1, ary2, assume_unique=True)\n",
    "np.union1d(ary1, ary2)\n",
    "\n",
    "np.union1d(np.setdiff1d(ary1, ary2, assume_unique=True), np.setdiff1d(ary2, ary1, assume_unique=True))"
   ]
  },
  {
   "cell_type": "markdown",
   "metadata": {},
   "source": [
    "## Serializing NumPy Arrays"
   ]
  },
  {
   "cell_type": "code",
   "execution_count": 28,
   "metadata": {},
   "outputs": [
    {
     "data": {
      "text/plain": [
       "array([1, 2, 3])"
      ]
     },
     "execution_count": 28,
     "metadata": {},
     "output_type": "execute_result"
    }
   ],
   "source": [
    "# saving a single array object\n",
    "\n",
    "ary1 = np.array([1, 2, 3])\n",
    "np.save('ary-data.npy', ary1)\n",
    "np.load('ary-data.npy')"
   ]
  },
  {
   "cell_type": "code",
   "execution_count": 38,
   "metadata": {},
   "outputs": [
    {
     "data": {
      "text/plain": [
       "array([1, 2, 3])"
      ]
     },
     "execution_count": 38,
     "metadata": {},
     "output_type": "execute_result"
    }
   ],
   "source": [
    "# saving multiple array objects using np.savez\n",
    "\n",
    "ary1 = np.array([1, 2, 3])\n",
    "ary2 = np.array([4, 5, 6])\n",
    "np.savez('ary-data.npz', ary1, ary2)\n",
    "# Loading data\n",
    "d = np.load('ary-data.npz')\n",
    "# d.keys()\n",
    "d.files\n",
    "d['arr_0']\n",
    "d['arr_1']\n",
    "\n",
    "# using custom array names\n",
    "kwargs = {'ary1': ary1, 'ary2': ary2}\n",
    "np.savez('ary-data.npz', **kwargs)\n",
    "np.load('ary-data.npz')\n",
    "d = np.load('ary-data.npz')\n",
    "d['ary1']"
   ]
  }
 ],
 "metadata": {
  "kernelspec": {
   "display_name": "Python 3",
   "language": "python",
   "name": "python3"
  },
  "language_info": {
   "codemirror_mode": {
    "name": "ipython",
    "version": 3
   },
   "file_extension": ".py",
   "mimetype": "text/x-python",
   "name": "python",
   "nbconvert_exporter": "python",
   "pygments_lexer": "ipython3",
   "version": "3.7.5"
  }
 },
 "nbformat": 4,
 "nbformat_minor": 4
}
